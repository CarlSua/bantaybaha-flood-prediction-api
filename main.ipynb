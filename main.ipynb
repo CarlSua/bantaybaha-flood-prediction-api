{
 "cells": [
  {
   "cell_type": "code",
   "execution_count": 1,
   "id": "71eb822f",
   "metadata": {},
   "outputs": [],
   "source": [
    "import pandas as pd\n",
    "import numpy as np\n",
    "import matplotlib.pyplot as plt\n",
    "import seaborn as sns\n",
    "from datetime import datetime\n",
    "import warnings\n",
    "warnings.filterwarnings('ignore')"
   ]
  },
  {
   "cell_type": "code",
   "execution_count": 2,
   "id": "f5707bbb",
   "metadata": {},
   "outputs": [],
   "source": [
    "from sklearn.model_selection import train_test_split\n",
    "from sklearn.ensemble import RandomForestClassifier\n",
    "from sklearn.preprocessing import StandardScaler\n",
    "from sklearn.metrics import accuracy_score, classification_report, confusion_matrix\n",
    "from sklearn.metrics import roc_auc_score, roc_curve\n",
    "import joblib\n",
    "import pickle"
   ]
  },
  {
   "cell_type": "code",
   "execution_count": 3,
   "id": "bad737c9",
   "metadata": {},
   "outputs": [
    {
     "name": "stdout",
     "output_type": "stream",
     "text": [
      "Dataset shape: (4320, 5)\n",
      "Columns: ['timestamp', 'water_level_m', 'water_pressure_kpa', 'rain_precip_mm', 'flood_event']\n",
      "Date range: 2025-01-01 00:00 to 2025-06-29 23:00\n",
      "🔥 Flood Events: 65 out of 4320 records\n"
     ]
    }
   ],
   "source": [
    "# Load your historical dataset for training\n",
    "df = pd.read_csv('flood.csv')\n",
    "\n",
    "print(f\"Dataset shape: {df.shape}\")\n",
    "print(f\"Columns: {list(df.columns)}\")\n",
    "print(f\"Date range: {df['timestamp'].min()} to {df['timestamp'].max()}\")\n",
    "print(f\"🔥 Flood Events: {df['flood_event'].sum()} out of {len(df)} records\")"
   ]
  },
  {
   "cell_type": "code",
   "execution_count": 4,
   "id": "39522983",
   "metadata": {},
   "outputs": [],
   "source": [
    "# Convert timestamp and extract time-based features\n",
    "df['timestamp'] = pd.to_datetime(df['timestamp'])\n",
    "df['hour'] = df['timestamp'].dt.hour\n",
    "df['day_of_week'] = df['timestamp'].dt.dayofweek\n",
    "df['month'] = df['timestamp'].dt.month\n",
    "df['is_weekend'] = (df['day_of_week'] >= 5).astype(int)"
   ]
  },
  {
   "cell_type": "code",
   "execution_count": 5,
   "id": "21e50233",
   "metadata": {},
   "outputs": [],
   "source": [
    "# Create risk thresholds based on historical data\n",
    "water_level_75th = df['water_level_m'].quantile(0.75)\n",
    "water_pressure_75th = df['water_pressure_kpa'].quantile(0.75) \n",
    "rain_75th = df['rain_precip_mm'].quantile(0.75)"
   ]
  },
  {
   "cell_type": "code",
   "execution_count": 6,
   "id": "05fcbb7e",
   "metadata": {},
   "outputs": [
    {
     "name": "stdout",
     "output_type": "stream",
     "text": [
      "🎯 Risk Thresholds (75th percentile):\n",
      "Water Level: 7.00m\n",
      "Water Pressure: 71.74kPa\n",
      "Rain: 3.42mm\n"
     ]
    }
   ],
   "source": [
    "# Create risk thresholds based on historical data\n",
    "water_level_75th = df['water_level_m'].quantile(0.75)\n",
    "water_pressure_75th = df['water_pressure_kpa'].quantile(0.75) \n",
    "rain_75th = df['rain_precip_mm'].quantile(0.75)\n",
    "\n",
    "print(f\"🎯 Risk Thresholds (75th percentile):\")\n",
    "print(f\"Water Level: {water_level_75th:.2f}m\")\n",
    "print(f\"Water Pressure: {water_pressure_75th:.2f}kPa\")\n",
    "print(f\"Rain: {rain_75th:.2f}mm\")"
   ]
  },
  {
   "cell_type": "code",
   "execution_count": 7,
   "id": "463dd75d",
   "metadata": {},
   "outputs": [
    {
     "name": "stdout",
     "output_type": "stream",
     "text": [
      "✅ Feature engineering completed!\n"
     ]
    }
   ],
   "source": [
    "# Create binary risk indicators\n",
    "df['high_water_level'] = (df['water_level_m'] > water_level_75th).astype(int)\n",
    "df['high_pressure'] = (df['water_pressure_kpa'] > water_pressure_75th).astype(int)\n",
    "df['heavy_rain'] = (df['rain_precip_mm'] > rain_75th).astype(int)\n",
    "\n",
    "# Create interaction features\n",
    "df['water_pressure_ratio'] = df['water_level_m'] * df['water_pressure_kpa']\n",
    "df['rain_water_interaction'] = df['rain_precip_mm'] * df['water_level_m']\n",
    "\n",
    "print(\"✅ Feature engineering completed!\")"
   ]
  },
  {
   "cell_type": "code",
   "execution_count": 8,
   "id": "3b23fd81",
   "metadata": {},
   "outputs": [
    {
     "name": "stdout",
     "output_type": "stream",
     "text": [
      "📊 Feature Statistics:\n"
     ]
    },
    {
     "data": {
      "text/html": [
       "<div>\n",
       "<style scoped>\n",
       "    .dataframe tbody tr th:only-of-type {\n",
       "        vertical-align: middle;\n",
       "    }\n",
       "\n",
       "    .dataframe tbody tr th {\n",
       "        vertical-align: top;\n",
       "    }\n",
       "\n",
       "    .dataframe thead th {\n",
       "        text-align: right;\n",
       "    }\n",
       "</style>\n",
       "<table border=\"1\" class=\"dataframe\">\n",
       "  <thead>\n",
       "    <tr style=\"text-align: right;\">\n",
       "      <th></th>\n",
       "      <th>water_level_m</th>\n",
       "      <th>water_pressure_kpa</th>\n",
       "      <th>rain_precip_mm</th>\n",
       "      <th>high_water_level</th>\n",
       "      <th>high_pressure</th>\n",
       "      <th>heavy_rain</th>\n",
       "    </tr>\n",
       "  </thead>\n",
       "  <tbody>\n",
       "    <tr>\n",
       "      <th>count</th>\n",
       "      <td>4320.000000</td>\n",
       "      <td>4320.000000</td>\n",
       "      <td>4320.000000</td>\n",
       "      <td>4320.0</td>\n",
       "      <td>4320.000000</td>\n",
       "      <td>4320.000000</td>\n",
       "    </tr>\n",
       "    <tr>\n",
       "      <th>mean</th>\n",
       "      <td>6.807285</td>\n",
       "      <td>68.064681</td>\n",
       "      <td>2.022549</td>\n",
       "      <td>0.0</td>\n",
       "      <td>0.249769</td>\n",
       "      <td>0.249074</td>\n",
       "    </tr>\n",
       "    <tr>\n",
       "      <th>std</th>\n",
       "      <td>0.649891</td>\n",
       "      <td>7.155807</td>\n",
       "      <td>2.839328</td>\n",
       "      <td>0.0</td>\n",
       "      <td>0.432929</td>\n",
       "      <td>0.432527</td>\n",
       "    </tr>\n",
       "    <tr>\n",
       "      <th>min</th>\n",
       "      <td>2.510000</td>\n",
       "      <td>22.550000</td>\n",
       "      <td>0.000000</td>\n",
       "      <td>0.0</td>\n",
       "      <td>0.000000</td>\n",
       "      <td>0.000000</td>\n",
       "    </tr>\n",
       "    <tr>\n",
       "      <th>25%</th>\n",
       "      <td>7.000000</td>\n",
       "      <td>66.940000</td>\n",
       "      <td>0.000000</td>\n",
       "      <td>0.0</td>\n",
       "      <td>0.000000</td>\n",
       "      <td>0.000000</td>\n",
       "    </tr>\n",
       "    <tr>\n",
       "      <th>50%</th>\n",
       "      <td>7.000000</td>\n",
       "      <td>69.470000</td>\n",
       "      <td>0.000000</td>\n",
       "      <td>0.0</td>\n",
       "      <td>0.000000</td>\n",
       "      <td>0.000000</td>\n",
       "    </tr>\n",
       "    <tr>\n",
       "      <th>75%</th>\n",
       "      <td>7.000000</td>\n",
       "      <td>71.740000</td>\n",
       "      <td>3.420000</td>\n",
       "      <td>0.0</td>\n",
       "      <td>0.000000</td>\n",
       "      <td>0.000000</td>\n",
       "    </tr>\n",
       "    <tr>\n",
       "      <th>max</th>\n",
       "      <td>7.000000</td>\n",
       "      <td>82.190000</td>\n",
       "      <td>23.670000</td>\n",
       "      <td>0.0</td>\n",
       "      <td>1.000000</td>\n",
       "      <td>1.000000</td>\n",
       "    </tr>\n",
       "  </tbody>\n",
       "</table>\n",
       "</div>"
      ],
      "text/plain": [
       "       water_level_m  water_pressure_kpa  rain_precip_mm  high_water_level  \\\n",
       "count    4320.000000         4320.000000     4320.000000            4320.0   \n",
       "mean        6.807285           68.064681        2.022549               0.0   \n",
       "std         0.649891            7.155807        2.839328               0.0   \n",
       "min         2.510000           22.550000        0.000000               0.0   \n",
       "25%         7.000000           66.940000        0.000000               0.0   \n",
       "50%         7.000000           69.470000        0.000000               0.0   \n",
       "75%         7.000000           71.740000        3.420000               0.0   \n",
       "max         7.000000           82.190000       23.670000               0.0   \n",
       "\n",
       "       high_pressure   heavy_rain  \n",
       "count    4320.000000  4320.000000  \n",
       "mean        0.249769     0.249074  \n",
       "std         0.432929     0.432527  \n",
       "min         0.000000     0.000000  \n",
       "25%         0.000000     0.000000  \n",
       "50%         0.000000     0.000000  \n",
       "75%         0.000000     0.000000  \n",
       "max         1.000000     1.000000  "
      ]
     },
     "execution_count": 8,
     "metadata": {},
     "output_type": "execute_result"
    }
   ],
   "source": [
    "# Show feature statistics\n",
    "feature_stats = df[['water_level_m', 'water_pressure_kpa', 'rain_precip_mm', \n",
    "                'high_water_level', 'high_pressure', 'heavy_rain']].describe()\n",
    "print(\"📊 Feature Statistics:\")\n",
    "feature_stats"
   ]
  },
  {
   "cell_type": "markdown",
   "id": "1d9c0905",
   "metadata": {},
   "source": [
    "## 📊 Data Visualization"
   ]
  },
  {
   "cell_type": "code",
   "execution_count": 9,
   "id": "5d3120cb",
   "metadata": {},
   "outputs": [
    {
     "data": {
      "text/plain": [
       "<matplotlib.legend.Legend at 0x29799053d50>"
      ]
     },
     "execution_count": 9,
     "metadata": {},
     "output_type": "execute_result"
    },
    {
     "data": {
      "image/png": "[encoded data removed]",
      "text/plain": [
       "<Figure size 1500x1000 with 4 Axes>"
      ]
     },
     "metadata": {},
     "output_type": "display_data"
    }
   ],
   "source": [
    "# Create visualizations for real-time understanding\n",
    "fig, axes = plt.subplots(2, 2, figsize=(15, 10))\n",
    "\n",
    "# Water level distribution with flood events\n",
    "axes[0,0].hist(df[df['flood_event']==0]['water_level_m'], alpha=0.7, label='No Flood', bins=30)\n",
    "axes[0,0].hist(df[df['flood_event']==1]['water_level_m'], alpha=0.7, label='Flood', bins=30)\n",
    "axes[0,0].axvline(water_level_75th, color='red', linestyle='--', label='Risk Threshold')\n",
    "axes[0,0].set_title('Water Level Distribution')\n",
    "axes[0,0].set_xlabel('Water Level (m)')\n",
    "axes[0,0].legend()"
   ]
  },
  {
   "cell_type": "code",
   "execution_count": 10,
   "id": "e4e09ccf",
   "metadata": {},
   "outputs": [
    {
     "data": {
      "text/plain": [
       "<matplotlib.legend.Legend at 0x2979975d550>"
      ]
     },
     "execution_count": 10,
     "metadata": {},
     "output_type": "execute_result"
    }
   ],
   "source": [
    "# Water pressure distribution with flood events\n",
    "axes[0,1].hist(df[df['flood_event']==0]['water_pressure_kpa'], alpha=0.7, label='No Flood', bins=30)\n",
    "axes[0,1].hist(df[df['flood_event']==1]['water_pressure_kpa'], alpha=0.7, label='Flood', bins=30)\n",
    "axes[0,1].axvline(water_pressure_75th, color='red', linestyle='--', label='Risk Threshold')\n",
    "axes[0,1].set_title('Water Pressure Distribution')\n",
    "axes[0,1].set_xlabel('Water Pressure (kPa)')\n",
    "axes[0,1].legend()"
   ]
  },
  {
   "cell_type": "code",
   "execution_count": 11,
   "id": "f8295c2e",
   "metadata": {},
   "outputs": [
    {
     "data": {
      "text/plain": [
       "<matplotlib.legend.Legend at 0x2979913dbd0>"
      ]
     },
     "execution_count": 11,
     "metadata": {},
     "output_type": "execute_result"
    }
   ],
   "source": [
    "# Rain distribution with flood events\n",
    "axes[1,0].hist(df[df['flood_event']==0]['rain_precip_mm'], alpha=0.7, label='No Flood', bins=30)\n",
    "axes[1,0].hist(df[df['flood_event']==1]['rain_precip_mm'], alpha=0.7, label='Flood', bins=30)\n",
    "axes[1,0].axvline(rain_75th, color='red', linestyle='--', label='Risk Threshold')\n",
    "axes[1,0].set_title('Rainfall Distribution')\n",
    "axes[1,0].set_xlabel('Rain Precipitation (mm)')\n",
    "axes[1,0].legend()"
   ]
  },
  {
   "cell_type": "code",
   "execution_count": 12,
   "id": "c584ed3c",
   "metadata": {},
   "outputs": [
    {
     "data": {
      "text/plain": [
       "<Figure size 640x480 with 0 Axes>"
      ]
     },
     "metadata": {},
     "output_type": "display_data"
    }
   ],
   "source": [
    "# Hourly flood pattern\n",
    "hourly_floods = df.groupby('hour')['flood_event'].mean()\n",
    "axes[1,1].bar(hourly_floods.index, hourly_floods.values)\n",
    "axes[1,1].set_title('Flood Risk by Hour of Day')\n",
    "axes[1,1].set_xlabel('Hour')\n",
    "axes[1,1].set_ylabel('Flood Probability')\n",
    "\n",
    "plt.tight_layout()\n",
    "plt.show()"
   ]
  },
  {
   "cell_type": "markdown",
   "id": "1ebbb769",
   "metadata": {},
   "source": [
    "## 🎯 Model Training for Real-Time Prediction"
   ]
  },
  {
   "cell_type": "code",
   "execution_count": 13,
   "id": "88702438",
   "metadata": {},
   "outputs": [
    {
     "name": "stdout",
     "output_type": "stream",
     "text": [
      "🎯 Features for real-time prediction: 12\n",
      "📊 Feature matrix shape: (4320, 12)\n",
      " 1. water_level_m\n",
      " 2. water_pressure_kpa\n",
      " 3. rain_precip_mm\n",
      " 4. hour\n",
      " 5. day_of_week\n",
      " 6. month\n",
      " 7. is_weekend\n",
      " 8. high_water_level\n",
      " 9. high_pressure\n",
      "10. heavy_rain\n",
      "11. water_pressure_ratio\n",
      "12. rain_water_interaction\n"
     ]
    }
   ],
   "source": [
    "# Select features for real-time prediction (only current sensor data + time)\n",
    "features = [\n",
    "    'water_level_m', 'water_pressure_kpa', 'rain_precip_mm',  # Sensor data\n",
    "    'hour', 'day_of_week', 'month', 'is_weekend',             # Time features\n",
    "    'high_water_level', 'high_pressure', 'heavy_rain',        # Risk indicators\n",
    "    'water_pressure_ratio', 'rain_water_interaction'          # Interactions\n",
    "]\n",
    "\n",
    "X = df[features]\n",
    "y = df['flood_event']\n",
    "\n",
    "print(f\"🎯 Features for real-time prediction: {len(features)}\")\n",
    "print(f\"📊 Feature matrix shape: {X.shape}\")\n",
    "\n",
    "# Display features\n",
    "for i, feature in enumerate(features):\n",
    "    print(f\"{i+1:2d}. {feature}\")"
   ]
  },
  {
   "cell_type": "code",
   "execution_count": 14,
   "id": "4df4d9c9",
   "metadata": {},
   "outputs": [
    {
     "name": "stdout",
     "output_type": "stream",
     "text": [
      "🔥 Flood event ratio: 1.50%\n",
      "✅ Stratified split applied\n",
      "📚 Training samples: 3456\n",
      "🧪 Testing samples: 864\n"
     ]
    }
   ],
   "source": [
    "# Split data\n",
    "flood_ratio = y.sum() / len(y)\n",
    "print(f\"🔥 Flood event ratio: {flood_ratio:.2%}\")\n",
    "\n",
    "if y.sum() > 1:\n",
    "    X_train, X_test, y_train, y_test = train_test_split(\n",
    "        X, y, test_size=0.2, random_state=42, stratify=y\n",
    "    )\n",
    "    print(\"✅ Stratified split applied\")\n",
    "else:\n",
    "    X_train, X_test, y_train, y_test = train_test_split(\n",
    "        X, y, test_size=0.2, random_state=42\n",
    "    )\n",
    "    print(\"⚠️ Random split applied (no flood events to stratify)\")\n",
    "\n",
    "print(f\"📚 Training samples: {len(X_train)}\")\n",
    "print(f\"🧪 Testing samples: {len(X_test)}\")"
   ]
  },
  {
   "cell_type": "code",
   "execution_count": 15,
   "id": "49603e02",
   "metadata": {},
   "outputs": [
    {
     "name": "stdout",
     "output_type": "stream",
     "text": [
      "⚖️ Features scaled for optimal performance!\n"
     ]
    }
   ],
   "source": [
    "# Scale features\n",
    "scaler = StandardScaler()\n",
    "X_train_scaled = scaler.fit_transform(X_train)\n",
    "X_test_scaled = scaler.transform(X_test)\n",
    "\n",
    "print(\"⚖️ Features scaled for optimal performance!\")"
   ]
  },
  {
   "cell_type": "code",
   "execution_count": 16,
   "id": "13bceb3b",
   "metadata": {},
   "outputs": [
    {
     "name": "stdout",
     "output_type": "stream",
     "text": [
      "🤖 Training Real-Time Flood Prediction Model...\n",
      "✅ Model training completed!\n"
     ]
    }
   ],
   "source": [
    "# Train Random Forest model optimized for real-time prediction\n",
    "print(\"🤖 Training Real-Time Flood Prediction Model...\")\n",
    "\n",
    "model = RandomForestClassifier(\n",
    "    n_estimators=200,        # More trees for stability\n",
    "    max_depth=8,            # Prevent overfitting\n",
    "    min_samples_split=5,    # Conservative splitting\n",
    "    min_samples_leaf=2,     # Ensure reliable predictions\n",
    "    random_state=42,\n",
    "    class_weight='balanced', # Handle class imbalance\n",
    "    n_jobs=-1               # Use all CPU cores\n",
    ")\n",
    "\n",
    "model.fit(X_train_scaled, y_train)\n",
    "print(\"✅ Model training completed!\")"
   ]
  },
  {
   "cell_type": "markdown",
   "id": "a48a0dd8",
   "metadata": {},
   "source": [
    "## 📈 Model Evaluation"
   ]
  },
  {
   "cell_type": "code",
   "execution_count": 17,
   "id": "09f4bce6",
   "metadata": {},
   "outputs": [
    {
     "name": "stdout",
     "output_type": "stream",
     "text": [
      "🎯 Real-Time Model Performance:\n",
      "📊 Accuracy: 95.60%\n",
      "📈 AUC Score: 0.8237\n",
      "\n",
      "📋 Detailed Report:\n",
      "              precision    recall  f1-score   support\n",
      "\n",
      "           0       0.99      0.97      0.98       851\n",
      "           1       0.12      0.31      0.17        13\n",
      "\n",
      "    accuracy                           0.96       864\n",
      "   macro avg       0.56      0.64      0.58       864\n",
      "weighted avg       0.98      0.96      0.97       864\n",
      "\n"
     ]
    }
   ],
   "source": [
    "# Evaluate model performance\n",
    "y_pred = model.predict(X_test_scaled)\n",
    "y_pred_proba = model.predict_proba(X_test_scaled)[:, 1]\n",
    "\n",
    "accuracy = accuracy_score(y_test, y_pred)\n",
    "auc_score = roc_auc_score(y_test, y_pred_proba) if y_test.sum() > 0 else 0\n",
    "\n",
    "print(f\"🎯 Real-Time Model Performance:\")\n",
    "print(f\"📊 Accuracy: {accuracy:.2%}\")\n",
    "if auc_score > 0:\n",
    "    print(f\"📈 AUC Score: {auc_score:.4f}\")\n",
    "\n",
    "print(f\"\\n📋 Detailed Report:\")\n",
    "print(classification_report(y_test, y_pred))"
   ]
  },
  {
   "cell_type": "code",
   "execution_count": 18,
   "id": "a03cc46f",
   "metadata": {},
   "outputs": [
    {
     "name": "stdout",
     "output_type": "stream",
     "text": [
      "🔍 Most Important Features for Real-Time Prediction:\n",
      "                   feature  importance\n",
      "11  rain_water_interaction    0.273873\n",
      "2           rain_precip_mm    0.244066\n",
      "1       water_pressure_kpa    0.099499\n",
      "10    water_pressure_ratio    0.097302\n",
      "9               heavy_rain    0.072577\n",
      "3                     hour    0.065249\n",
      "4              day_of_week    0.053117\n",
      "5                    month    0.040518\n",
      "0            water_level_m    0.028966\n",
      "6               is_weekend    0.018008\n",
      "8            high_pressure    0.006824\n",
      "7         high_water_level    0.000000\n"
     ]
    }
   ],
   "source": [
    "# Feature importance for real-time prediction\n",
    "feature_importance = pd.DataFrame({\n",
    "    'feature': features,\n",
    "    'importance': model.feature_importances_\n",
    "}).sort_values('importance', ascending=False)\n",
    "\n",
    "print(\"🔍 Most Important Features for Real-Time Prediction:\")\n",
    "print(feature_importance)"
   ]
  },
  {
   "cell_type": "code",
   "execution_count": 19,
   "id": "518ad7e2",
   "metadata": {},
   "outputs": [
    {
     "data": {
      "image/png": "[encoded data removed]",
      "text/plain": [
       "<Figure size 1000x600 with 1 Axes>"
      ]
     },
     "metadata": {},
     "output_type": "display_data"
    }
   ],
   "source": [
    "# Plot feature importance\n",
    "plt.figure(figsize=(10, 6))\n",
    "sns.barplot(data=feature_importance.head(10), y='feature', x='importance', palette='viridis')\n",
    "plt.title('Top 10 Features for Real-Time Flood Prediction')\n",
    "plt.xlabel('Importance Score')\n",
    "plt.tight_layout()\n",
    "plt.show()"
   ]
  },
  {
   "cell_type": "code",
   "execution_count": 20,
   "id": "13d1702c",
   "metadata": {},
   "outputs": [
    {
     "name": "stdout",
     "output_type": "stream",
     "text": [
      "💾 Saving real-time prediction model...\n",
      "✅ Model saved as 'realtime_flood_model.pkl'\n",
      "✅ Scaler saved as 'realtime_scaler.pkl'\n",
      "✅ Configuration saved as 'realtime_config.pkl'\n",
      "\n",
      "🚀 Real-time model is ready for deployment!\n"
     ]
    }
   ],
   "source": [
    "# Save model and components for API deployment\n",
    "print(\"💾 Saving real-time prediction model...\")\n",
    "\n",
    "# Save the trained model\n",
    "joblib.dump(model, 'realtime_flood_model.pkl')\n",
    "print(\"✅ Model saved as 'realtime_flood_model.pkl'\")\n",
    "\n",
    "# Save the scaler\n",
    "joblib.dump(scaler, 'realtime_scaler.pkl')\n",
    "print(\"✅ Scaler saved as 'realtime_scaler.pkl'\")\n",
    "\n",
    "# Save feature names and thresholds\n",
    "model_config = {\n",
    "    'features': features,\n",
    "    'water_level_threshold': water_level_75th,\n",
    "    'water_pressure_threshold': water_pressure_75th,\n",
    "    'rain_threshold': rain_75th\n",
    "}\n",
    "\n",
    "joblib.dump(model_config, 'realtime_config.pkl')\n",
    "print(\"✅ Configuration saved as 'realtime_config.pkl'\")\n",
    "\n",
    "print(\"\\n🚀 Real-time model is ready for deployment!\")\n",
    "\n",
    "# %% [markdown]\n",
    "## 🧪 Real-Time Prediction Function\n",
    "\n",
    "# %%\n",
    "def predict_realtime_flood(timestamp_str, water_level, water_pressure, rain_precip):\n",
    "    \"\"\"\n",
    "    Predict flood risk from real-time sensor data\n",
    "    \n",
    "    Parameters:\n",
    "    - timestamp_str: Current timestamp (e.g., \"2025-01-15 14:30:00\")\n",
    "    - water_level: Current water level in meters\n",
    "    - water_pressure: Current water pressure in kPa  \n",
    "    - rain_precip: Current rain precipitation in mm\n",
    "    \"\"\"\n",
    "    \n",
    "    # Parse timestamp\n",
    "    timestamp = pd.to_datetime(timestamp_str)\n",
    "    hour = timestamp.hour\n",
    "    day_of_week = timestamp.dayofweek\n",
    "    month = timestamp.month\n",
    "    is_weekend = 1 if day_of_week >= 5 else 0\n",
    "    \n",
    "    # Create risk indicators\n",
    "    high_water_level = 1 if water_level > water_level_75th else 0\n",
    "    high_pressure = 1 if water_pressure > water_pressure_75th else 0\n",
    "    heavy_rain = 1 if rain_precip > rain_75th else 0\n",
    "    \n",
    "    # Create interaction features\n",
    "    water_pressure_ratio = water_level * water_pressure\n",
    "    rain_water_interaction = rain_precip * water_level\n",
    "    \n",
    "    # Create feature array\n",
    "    features_array = np.array([[\n",
    "        water_level, water_pressure, rain_precip,      # Sensor readings\n",
    "        hour, day_of_week, month, is_weekend,          # Time features  \n",
    "        high_water_level, high_pressure, heavy_rain,   # Risk indicators\n",
    "        water_pressure_ratio, rain_water_interaction   # Interactions\n",
    "    ]])\n",
    "    \n",
    "    # Scale features\n",
    "    features_scaled = scaler.transform(features_array)\n",
    "    \n",
    "    # Make prediction\n",
    "    prediction = model.predict(features_scaled)[0]\n",
    "    probability = model.predict_proba(features_scaled)[0, 1]\n",
    "    \n",
    "    # Determine risk level and alert\n",
    "    if probability < 0.1:\n",
    "        risk_level = \"Very Low\"\n",
    "        alert = \"✅ Normal conditions\"\n",
    "        color = \"🟢\"\n",
    "    elif probability < 0.3:\n",
    "        risk_level = \"Low\" \n",
    "        alert = \"📋 Monitor conditions\"\n",
    "        color = \"🟡\"\n",
    "    elif probability < 0.5:\n",
    "        risk_level = \"Moderate\"\n",
    "        alert = \"⚡ Stay alert\"\n",
    "        color = \"🟠\"\n",
    "    elif probability < 0.7:\n",
    "        risk_level = \"High\"\n",
    "        alert = \"⚠️ Prepare for flooding\"\n",
    "        color = \"🔴\"\n",
    "    else:\n",
    "        risk_level = \"Critical\"\n",
    "        alert = \"🚨 FLOOD ALERT!\"\n",
    "        color = \"🔴🚨\"\n",
    "        \n",
    "    return {\n",
    "        'timestamp': timestamp_str,\n",
    "        'flood_prediction': int(prediction),\n",
    "        'flood_probability': round(probability, 4),\n",
    "        'risk_level': risk_level,\n",
    "        'alert_message': alert,\n",
    "        'color_indicator': color,\n",
    "        'sensor_readings': {\n",
    "            'water_level_m': water_level,\n",
    "            'water_pressure_kpa': water_pressure,  \n",
    "            'rain_precip_mm': rain_precip\n",
    "        },\n",
    "        'risk_factors': {\n",
    "            'high_water_level': bool(high_water_level),\n",
    "            'high_pressure': bool(high_pressure),\n",
    "            'heavy_rain': bool(heavy_rain)\n",
    "        }\n",
    "    }\n"
   ]
  },
  {
   "cell_type": "markdown",
   "id": "a4bbf61d",
   "metadata": {},
   "source": [
    "## 🧪 Test Real-Time Predictions"
   ]
  },
  {
   "cell_type": "code",
   "execution_count": 21,
   "id": "c40be9a1",
   "metadata": {},
   "outputs": [
    {
     "name": "stdout",
     "output_type": "stream",
     "text": [
      "🧪 Testing Real-Time Flood Prediction:\n",
      "============================================================\n",
      "🌤️ Test 1 - Normal Morning:\n",
      "   Risk: 0.3% - Very Low 🟢\n",
      "   Alert: ✅ Normal conditions\n",
      "\n",
      "🌧️ Test 2 - High Water Level:\n",
      "   Risk: 0.7% - Very Low 🟢\n",
      "   Alert: ✅ Normal conditions\n",
      "\n",
      "⛈️ Test 3 - Heavy Rain Evening:\n",
      "   Risk: 0.1% - Very Low 🟢\n",
      "   Alert: ✅ Normal conditions\n",
      "\n",
      "🚨 Test 4 - Critical Conditions:\n",
      "   Risk: 19.6% - Low 🟡\n",
      "   Alert: 📋 Monitor conditions\n",
      "\n",
      "🎉 Real-time prediction model is working perfectly!\n",
      "📡 Ready to receive live sensor data!\n"
     ]
    }
   ],
   "source": [
    "# %%\n",
    "print(\"🧪 Testing Real-Time Flood Prediction:\")\n",
    "print(\"=\" * 60)\n",
    "\n",
    "# Test Case 1: Normal conditions\n",
    "result1 = predict_realtime_flood(\"2025-01-15 10:00:00\", 2.1, 21.0, 0.0)\n",
    "print(f\"🌤️ Test 1 - Normal Morning:\")\n",
    "print(f\"   Risk: {result1['flood_probability']:.1%} - {result1['risk_level']} {result1['color_indicator']}\")\n",
    "print(f\"   Alert: {result1['alert_message']}\")\n",
    "\n",
    "# Test Case 2: High water level\n",
    "result2 = predict_realtime_flood(\"2025-01-15 15:00:00\", 3.8, 38.0, 2.0)\n",
    "print(f\"\\n🌧️ Test 2 - High Water Level:\")\n",
    "print(f\"   Risk: {result2['flood_probability']:.1%} - {result2['risk_level']} {result2['color_indicator']}\")\n",
    "print(f\"   Alert: {result2['alert_message']}\")\n",
    "\n",
    "# Test Case 3: Heavy rain scenario  \n",
    "result3 = predict_realtime_flood(\"2025-01-15 20:00:00\", 3.2, 32.0, 12.0)\n",
    "print(f\"\\n⛈️ Test 3 - Heavy Rain Evening:\")\n",
    "print(f\"   Risk: {result3['flood_probability']:.1%} - {result3['risk_level']} {result3['color_indicator']}\")\n",
    "print(f\"   Alert: {result3['alert_message']}\")\n",
    "\n",
    "# Test Case 4: Critical conditions\n",
    "result4 = predict_realtime_flood(\"2025-01-15 02:00:00\", 4.5, 45.0, 20.0)\n",
    "print(f\"\\n🚨 Test 4 - Critical Conditions:\")\n",
    "print(f\"   Risk: {result4['flood_probability']:.1%} - {result4['risk_level']} {result4['color_indicator']}\")\n",
    "print(f\"   Alert: {result4['alert_message']}\")\n",
    "\n",
    "print(f\"\\n🎉 Real-time prediction model is working perfectly!\")\n",
    "print(f\"📡 Ready to receive live sensor data!\")"
   ]
  }
 ],
 "metadata": {
  "kernelspec": {
   "display_name": "floodml",
   "language": "python",
   "name": "python3"
  },
  "language_info": {
   "codemirror_mode": {
    "name": "ipython",
    "version": 3
   },
   "file_extension": ".py",
   "mimetype": "text/x-python",
   "name": "python",
   "nbconvert_exporter": "python",
   "pygments_lexer": "ipython3",
   "version": "3.11.13"
  }
 },
 "nbformat": 4,
 "nbformat_minor": 5
}
